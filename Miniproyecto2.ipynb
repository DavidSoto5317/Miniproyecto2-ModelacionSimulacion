{
 "cells": [
  {
   "cell_type": "markdown",
   "metadata": {},
   "source": [
    "## Miniproyecto 2"
   ]
  },
  {
   "cell_type": "markdown",
   "metadata": {},
   "source": [
    "#### Integrantes de equipo\n",
    "##### David Soto 17551\n",
    "##### Miguel Valle 17102"
   ]
  },
  {
   "cell_type": "code",
   "execution_count": 1,
   "metadata": {},
   "outputs": [],
   "source": [
    "import math\n",
    "import matplotlib.pyplot as plt\n",
    "import numpy as np\n",
    "import random"
   ]
  },
  {
   "cell_type": "markdown",
   "metadata": {},
   "source": [
    "### Ejercicio 1 - Función acumulada ponderada"
   ]
  },
  {
   "cell_type": "markdown",
   "metadata": {},
   "source": [
    "Teniendo a los $F_{i}(x)$ de i de 1 a n con función de probabilidad acumulada $F(x)= \\sum \\limits _{i=1} ^{n} p_{i} F_{i}(x)$, para V (variable aleatoria), para todo $i, p_{i} ≥ 0, y \\sum p_{i} = 1.$\n",
    "\n",
    "Algoritmo:\n",
    "\n",
    "<ol>\n",
    "    <li>Definir cuál será el valor de n</li>\n",
    "\t<li>Definir la función de probabilidad acumulada $F_{i}(x)$ para i de 1 hasta n</li>\n",
    "\t<li>Generar I, tal que está distribuido como enteros positivos, tal que $P(I = i)= p_{i}$</li>\n",
    "\t<li>Para todas las alternativas, si $I=i$, obtener $Y_{i}$ a partir de $F_{i} (x)$</li>\n",
    "\t<li>Asignar a X como $Y_{i}$</li>\n",
    "\t<li>Repetir pasos 3 y 4 hasta recorrer toda I generada, así obteniendo la variable aleatoria</li>\n",
    "</ol>\n",
    "Demostración:\n",
    "\n",
    "<li>$P(X ≤ x)= \\sum \\limits _{i=1} ^{n} P(X ≤ x│I = i)P(I = i)$</li>\n",
    "<li>$P(X ≤ x)= \\sum \\limits _{i=1} ^{n} P(Y_{i} ≤ x)P(I = i)$</li>\n",
    "<li>$P(X ≤ x)= \\sum \\limits _{i=1} ^{n} F_{i}(x)p_{i} $</li>\n",
    "<li>$P(X ≤ x)=  F_{i} (x) $</li>\n"
   ]
  },
  {
   "cell_type": "markdown",
   "metadata": {},
   "source": [
    "### Ejercicio 2 - Función acumulada ponderada (programa)"
   ]
  },
  {
   "cell_type": "code",
   "execution_count": 2,
   "metadata": {},
   "outputs": [],
   "source": [
    "###Funcion para generar los numberos aleatorios\n",
    "def pseudo(a,m):\n",
    "    def inner_pseudo(x0, n):\n",
    "        items = list(range(n))\n",
    "        items[0] = [x0]\n",
    "        for i in range(n):\n",
    "            items[i] = (a * items[i-1])%m\n",
    "        #Se normaliza para que quede entre 0 y 1 \n",
    "        return[i/float(m) for i in items]\n",
    "    return inner_pseudo "
   ]
  },
  {
   "cell_type": "code",
   "execution_count": 3,
   "metadata": {},
   "outputs": [
    {
     "name": "stdout",
     "output_type": "stream",
     "text": [
      "Ingrese la cantidad de opciones para la funcion de masa de probabilidad4\n",
      "Ingrese el valor de p00.1\n",
      "Ingrese el valor de p10.4\n",
      "Ingrese el valor de p20.25\n",
      "Ingrese el valor de p30.25\n",
      "[0.1, 0.4, 0.25, 0.25]\n",
      "{0: 0, 1: 0, 2: 0, 3: 0}\n",
      "[0.1, 0.5, 0.75, 1.0]\n",
      "{0: 949, 1: 4019, 2: 2479, 3: 2553}\n"
     ]
    },
    {
     "data": {
      "image/png": "[encoded data removed]",
      "text/plain": [
       "<Figure size 432x288 with 2 Axes>"
      ]
     },
     "metadata": {
      "needs_background": "light"
     },
     "output_type": "display_data"
    }
   ],
   "source": [
    "###Se pide que se ingrese la cantidad de opciones para la funcion\n",
    "###luego se ingresan la probabilidad de cada opcion y finalmente\n",
    "###se generan los numeros aleatorios segun la funcion dada\n",
    "n = input(\"Ingrese la cantidad de opciones para la funcion de masa de probabilidad\")\n",
    "n = int(n)\n",
    "pi = []\n",
    "ni = {}\n",
    "ni2 = []\n",
    "temp = 0\n",
    "for i in range(n):\n",
    "    msg = \"Ingrese el valor de p\"+str(i)\n",
    "    p = float(input(msg))\n",
    "    pi.append(p)\n",
    "    if i == 0:\n",
    "        ni2.append(p)\n",
    "    else:\n",
    "        for j in range(len(pi)):\n",
    "            temp += pi[j]\n",
    "        ni2.append(temp)\n",
    "        temp = 0\n",
    "    ni[i] = 0\n",
    "print(pi)\n",
    "print(ni)\n",
    "print(ni2)\n",
    "mi_pseudo = pseudo(m=2**31 -1, a = 7**5)\n",
    "mis_randoms = mi_pseudo(x0=3, n=10000)\n",
    "\n",
    "for x in mis_randoms:\n",
    "    if x <= ni2[0]:\n",
    "        ni[0] += 1\n",
    "    else:\n",
    "        for i in range(len(ni2)):\n",
    "            if (i > 0):\n",
    "                if (x < ni2[i]) and (x > ni2[i-1]):\n",
    "                    ni[i] += 1\n",
    "\n",
    "print(ni)\n",
    "fig, axs = plt.subplots(2)\n",
    "fig.suptitle(\"Resultado\")\n",
    "axs[0].bar(ni.keys(),pi,width=0.8)\n",
    "axs[0].set_title(\"Funcion de masa de probabilidad\")\n",
    "axs[1].bar(ni.keys(), ni.values(),width=0.9)\n",
    "axs[1].set_title(\"Variable Aleatoria\")\n",
    "\n",
    "plt.show()"
   ]
  },
  {
   "cell_type": "markdown",
   "metadata": {},
   "source": [
    "### Ejercicio 3 - Valor presente neto"
   ]
  },
  {
   "cell_type": "code",
   "execution_count": 4,
   "metadata": {},
   "outputs": [
    {
     "name": "stdout",
     "output_type": "stream",
     "text": [
      "7087.707696308254\n"
     ]
    }
   ],
   "source": [
    "### Se hace una prueba para obtener las variables aleatorias uniformes con numpy\n",
    "print(np.random.uniform(200,8440))"
   ]
  },
  {
   "cell_type": "code",
   "execution_count": 5,
   "metadata": {},
   "outputs": [],
   "source": [
    "### Se realiza la funcion para generar variables aleatorias normales\n",
    "def normal(mu, sigma):\n",
    "    while True:\n",
    "        lambdaValue = 1\n",
    "        y1 = -(1/lambdaValue) * math.log(random.random())\n",
    "        y2 = -(1/lambdaValue) * math.log(random.random())\n",
    "        if (y2 - ((y1 - 1) ** 2) / 2) > 0:\n",
    "            y1 = y2 - ((y1 - 1) ** 2) / 2\n",
    "            variableU = random.random()\n",
    "            if variableU <= 0.5:\n",
    "                return mu + sigma * y1\n",
    "            else:\n",
    "                return mu - sigma * y1\n",
    "    "
   ]
  },
  {
   "cell_type": "markdown",
   "metadata": {},
   "source": [
    "#### Simulaciones con 100 iteraciones"
   ]
  },
  {
   "cell_type": "code",
   "execution_count": 6,
   "metadata": {},
   "outputs": [],
   "source": [
    "### Se realiza la simulacion para el Proyecto del Hotel con 100 iteraciones\n",
    "iteraciones = 100\n",
    "porcentajeRetorno = 0.1\n",
    "resultadosH = []\n",
    "\n",
    "for simulacion in range(iteraciones): \n",
    "    valorInicial = -800\n",
    "    valorInicial += normal(-800,50) / ((1 + porcentajeRetorno) ** 1) #ANIO 1\n",
    "    valorInicial += normal(-800,100) / ((1 + porcentajeRetorno) ** 2) #ANIO 2\n",
    "    valorInicial += normal(-700,150) / ((1 + porcentajeRetorno) ** 3) #ANIO 3\n",
    "    valorInicial += normal(300,200) / ((1 + porcentajeRetorno) ** 4) #ANIO 4\n",
    "    valorInicial += normal(400,200) / ((1 + porcentajeRetorno) ** 5) #ANIO 5\n",
    "    valorInicial += normal(500,200) / ((1 + porcentajeRetorno) ** 6) #ANIO 6\n",
    "    valorInicial += np.random.uniform(200,8440) / ((1 + porcentajeRetorno) ** 7) #ANIO 7\n",
    "    \n",
    "    resultadosH.append(valorInicial)"
   ]
  },
  {
   "cell_type": "code",
   "execution_count": 7,
   "metadata": {},
   "outputs": [
    {
     "data": {
      "image/png": "[encoded data removed]",
      "text/plain": [
       "<Figure size 432x288 with 1 Axes>"
      ]
     },
     "metadata": {
      "needs_background": "light"
     },
     "output_type": "display_data"
    }
   ],
   "source": [
    "plt.hist(resultadosH, bins=10)\n",
    "plt.show()"
   ]
  },
  {
   "cell_type": "code",
   "execution_count": 8,
   "metadata": {},
   "outputs": [],
   "source": [
    "### Se realiza la simulacion para el Proyecto del Centro Comercial con 100 iteraciones\n",
    "iteraciones = 100\n",
    "porcentajeRetorno = 0.1\n",
    "resultadosCC = []\n",
    "\n",
    "for simulacion in range(iteraciones): \n",
    "    valorInicial = -900\n",
    "    valorInicial += normal(-600,50) / ((1 + porcentajeRetorno) ** 1) #ANIO 1\n",
    "    valorInicial += normal(-200,50) / ((1 + porcentajeRetorno) ** 2) #ANIO 2\n",
    "    valorInicial += normal(-600,100) / ((1 + porcentajeRetorno) ** 3) #ANIO 3\n",
    "    valorInicial += normal(250,150) / ((1 + porcentajeRetorno) ** 4) #ANIO 4\n",
    "    valorInicial += normal(350,150) / ((1 + porcentajeRetorno) ** 5) #ANIO 5\n",
    "    valorInicial += normal(400,150) / ((1 + porcentajeRetorno) ** 6) #ANIO 6\n",
    "    valorInicial += np.random.uniform(1600,6000) / ((1 + porcentajeRetorno) ** 7) #ANIO 7\n",
    "    \n",
    "    resultadosCC.append(valorInicial)"
   ]
  },
  {
   "cell_type": "code",
   "execution_count": 9,
   "metadata": {
    "scrolled": true
   },
   "outputs": [
    {
     "data": {
      "image/png": "[encoded data removed]",
      "text/plain": [
       "<Figure size 432x288 with 1 Axes>"
      ]
     },
     "metadata": {
      "needs_background": "light"
     },
     "output_type": "display_data"
    }
   ],
   "source": [
    "plt.hist(resultadosCC, bins=10)\n",
    "plt.show()"
   ]
  },
  {
   "cell_type": "markdown",
   "metadata": {},
   "source": [
    "#### Comparacion de VPN's obtenidas para cada proyecto"
   ]
  },
  {
   "cell_type": "code",
   "execution_count": 10,
   "metadata": {},
   "outputs": [
    {
     "name": "stdout",
     "output_type": "stream",
     "text": [
      "La cantidad de veces que el Proyecto del Hotel fue rentable para invertir fue de: 56 , siendo un porcentaje del: 56.0 % del total de simulaciones\n",
      "La cantidad de veces que el Proyecto del Centro comercial fue rentable para invertir fue de: 72 , siendo un porcentaje del: 72.0 % del total de simulaciones\n"
     ]
    }
   ],
   "source": [
    "### Se hace un conteo de VPN para aquellas que tienen un valor Superior a 0 que determina los proyectos en los que invertir\n",
    "conteoH = 0 \n",
    "conteoCC = 0\n",
    "\n",
    "for inversion in resultadosH:\n",
    "    if inversion > 0:\n",
    "        conteoH = conteoH + 1\n",
    "\n",
    "for inversion in resultadosCC:\n",
    "    if inversion > 0:\n",
    "        conteoCC = conteoCC + 1 \n",
    "\n",
    "print(\"La cantidad de veces que el Proyecto del Hotel fue rentable para invertir fue de:\",conteoH,\", siendo un porcentaje del:\", conteoH*100/iteraciones,\"% del total de simulaciones\")\n",
    "print(\"La cantidad de veces que el Proyecto del Centro comercial fue rentable para invertir fue de:\",conteoCC,\", siendo un porcentaje del:\", conteoCC*100/iteraciones,\"% del total de simulaciones\")"
   ]
  },
  {
   "cell_type": "markdown",
   "metadata": {},
   "source": [
    "#### Simulaciones con 1000 iteraciones"
   ]
  },
  {
   "cell_type": "code",
   "execution_count": 11,
   "metadata": {},
   "outputs": [],
   "source": [
    "### Se realiza la simulacion para el Proyecto del Hotel con 1000 iteraciones\n",
    "iteraciones = 1000\n",
    "porcentajeRetorno = 0.1\n",
    "resultadosH = []\n",
    "\n",
    "for simulacion in range(iteraciones): \n",
    "    valorInicial = -800\n",
    "    valorInicial += normal(-800,50) / ((1 + porcentajeRetorno) ** 1) #ANIO 1\n",
    "    valorInicial += normal(-800,100) / ((1 + porcentajeRetorno) ** 2) #ANIO 2\n",
    "    valorInicial += normal(-700,150) / ((1 + porcentajeRetorno) ** 3) #ANIO 3\n",
    "    valorInicial += normal(300,200) / ((1 + porcentajeRetorno) ** 4) #ANIO 4\n",
    "    valorInicial += normal(400,200) / ((1 + porcentajeRetorno) ** 5) #ANIO 5\n",
    "    valorInicial += normal(500,200) / ((1 + porcentajeRetorno) ** 6) #ANIO 6\n",
    "    valorInicial += np.random.uniform(200,8440) / ((1 + porcentajeRetorno) ** 7) #ANIO 7\n",
    "    \n",
    "    resultadosH.append(valorInicial)"
   ]
  },
  {
   "cell_type": "code",
   "execution_count": 12,
   "metadata": {},
   "outputs": [
    {
     "data": {
      "image/png": "[encoded data removed]",
      "text/plain": [
       "<Figure size 432x288 with 1 Axes>"
      ]
     },
     "metadata": {
      "needs_background": "light"
     },
     "output_type": "display_data"
    }
   ],
   "source": [
    "plt.hist(resultadosH, bins=10)\n",
    "plt.show()"
   ]
  },
  {
   "cell_type": "code",
   "execution_count": 13,
   "metadata": {},
   "outputs": [],
   "source": [
    "### Se realiza la simulacion para el Proyecto del Centro Comercial con 1000 iteraciones\n",
    "iteraciones = 1000\n",
    "porcentajeRetorno = 0.1\n",
    "resultadosCC = []\n",
    "\n",
    "for simulacion in range(iteraciones): \n",
    "    valorInicial = -900\n",
    "    valorInicial += normal(-600,50) / ((1 + porcentajeRetorno) ** 1) #ANIO 1\n",
    "    valorInicial += normal(-200,50) / ((1 + porcentajeRetorno) ** 2) #ANIO 2\n",
    "    valorInicial += normal(-600,100) / ((1 + porcentajeRetorno) ** 3) #ANIO 3\n",
    "    valorInicial += normal(250,150) / ((1 + porcentajeRetorno) ** 4) #ANIO 4\n",
    "    valorInicial += normal(350,150) / ((1 + porcentajeRetorno) ** 5) #ANIO 5\n",
    "    valorInicial += normal(400,150) / ((1 + porcentajeRetorno) ** 6) #ANIO 6\n",
    "    valorInicial += np.random.uniform(1600,6000) / ((1 + porcentajeRetorno) ** 7) #ANIO 7\n",
    "    \n",
    "    resultadosCC.append(valorInicial)"
   ]
  },
  {
   "cell_type": "code",
   "execution_count": 14,
   "metadata": {
    "scrolled": true
   },
   "outputs": [
    {
     "data": {
      "image/png": "[encoded data removed]",
      "text/plain": [
       "<Figure size 432x288 with 1 Axes>"
      ]
     },
     "metadata": {
      "needs_background": "light"
     },
     "output_type": "display_data"
    }
   ],
   "source": [
    "plt.hist(resultadosCC, bins=10)\n",
    "plt.show()"
   ]
  },
  {
   "cell_type": "markdown",
   "metadata": {},
   "source": [
    "#### Comparacion de VPN's obtenidas para cada proyecto"
   ]
  },
  {
   "cell_type": "code",
   "execution_count": 15,
   "metadata": {},
   "outputs": [
    {
     "name": "stdout",
     "output_type": "stream",
     "text": [
      "La cantidad de veces que el Proyecto del Hotel fue rentable para invertir fue de: 567 , siendo un porcentaje del: 56.7 % del total de simulaciones\n",
      "La cantidad de veces que el Proyecto del Centro comercial fue rentable para invertir fue de: 748 , siendo un porcentaje del: 74.8 % del total de simulaciones\n"
     ]
    }
   ],
   "source": [
    "### Se hace un conteo de VPN para aquellas que tienen un valor Superior a 0 que determina los proyectos en los que invertir\n",
    "conteoH = 0 \n",
    "conteoCC = 0\n",
    "\n",
    "for inversion in resultadosH:\n",
    "    if inversion > 0:\n",
    "        conteoH = conteoH + 1\n",
    "\n",
    "for inversion in resultadosCC:\n",
    "    if inversion > 0:\n",
    "        conteoCC = conteoCC + 1 \n",
    "\n",
    "print(\"La cantidad de veces que el Proyecto del Hotel fue rentable para invertir fue de:\",conteoH,\", siendo un porcentaje del:\", conteoH*100/iteraciones,\"% del total de simulaciones\")\n",
    "print(\"La cantidad de veces que el Proyecto del Centro comercial fue rentable para invertir fue de:\",conteoCC,\", siendo un porcentaje del:\", conteoCC*100/iteraciones,\"% del total de simulaciones\")"
   ]
  },
  {
   "cell_type": "code",
   "execution_count": 16,
   "metadata": {},
   "outputs": [],
   "source": [
    "### Se realiza la simulacion para el Proyecto del Hotel con 10000 iteraciones\n",
    "iteraciones = 10000\n",
    "porcentajeRetorno = 0.1\n",
    "resultadosH = []\n",
    "\n",
    "for simulacion in range(iteraciones): \n",
    "    valorInicial = -800\n",
    "    valorInicial += normal(-800,50) / ((1 + porcentajeRetorno) ** 1) #ANIO 1\n",
    "    valorInicial += normal(-800,100) / ((1 + porcentajeRetorno) ** 2) #ANIO 2\n",
    "    valorInicial += normal(-700,150) / ((1 + porcentajeRetorno) ** 3) #ANIO 3\n",
    "    valorInicial += normal(300,200) / ((1 + porcentajeRetorno) ** 4) #ANIO 4\n",
    "    valorInicial += normal(400,200) / ((1 + porcentajeRetorno) ** 5) #ANIO 5\n",
    "    valorInicial += normal(500,200) / ((1 + porcentajeRetorno) ** 6) #ANIO 6\n",
    "    valorInicial += np.random.uniform(200,8440) / ((1 + porcentajeRetorno) ** 7) #ANIO 7\n",
    "    \n",
    "    resultadosH.append(valorInicial)"
   ]
  },
  {
   "cell_type": "code",
   "execution_count": 17,
   "metadata": {},
   "outputs": [
    {
     "data": {
      "image/png": "[encoded data removed]",
      "text/plain": [
       "<Figure size 432x288 with 1 Axes>"
      ]
     },
     "metadata": {
      "needs_background": "light"
     },
     "output_type": "display_data"
    }
   ],
   "source": [
    "plt.hist(resultadosH, bins=10)\n",
    "plt.show()"
   ]
  },
  {
   "cell_type": "code",
   "execution_count": 18,
   "metadata": {},
   "outputs": [],
   "source": [
    "### Se realiza la simulacion para el Proyecto del Centro Comercial con 10000 iteraciones\n",
    "iteraciones = 10000\n",
    "porcentajeRetorno = 0.1\n",
    "resultadosCC = []\n",
    "\n",
    "for simulacion in range(iteraciones): \n",
    "    valorInicial = -900\n",
    "    valorInicial += normal(-600,50) / ((1 + porcentajeRetorno) ** 1) #ANIO 1\n",
    "    valorInicial += normal(-200,50) / ((1 + porcentajeRetorno) ** 2) #ANIO 2\n",
    "    valorInicial += normal(-600,100) / ((1 + porcentajeRetorno) ** 3) #ANIO 3\n",
    "    valorInicial += normal(250,150) / ((1 + porcentajeRetorno) ** 4) #ANIO 4\n",
    "    valorInicial += normal(350,150) / ((1 + porcentajeRetorno) ** 5) #ANIO 5\n",
    "    valorInicial += normal(400,150) / ((1 + porcentajeRetorno) ** 6) #ANIO 6\n",
    "    valorInicial += np.random.uniform(1600,6000) / ((1 + porcentajeRetorno) ** 7) #ANIO 7\n",
    "    \n",
    "    resultadosCC.append(valorInicial)"
   ]
  },
  {
   "cell_type": "code",
   "execution_count": 19,
   "metadata": {
    "scrolled": true
   },
   "outputs": [
    {
     "data": {
      "image/png": "[encoded data removed]",
      "text/plain": [
       "<Figure size 432x288 with 1 Axes>"
      ]
     },
     "metadata": {
      "needs_background": "light"
     },
     "output_type": "display_data"
    }
   ],
   "source": [
    "plt.hist(resultadosCC, bins=10)\n",
    "plt.show()"
   ]
  },
  {
   "cell_type": "markdown",
   "metadata": {},
   "source": [
    "#### Comparacion de VPN's obtenidas para cada proyecto"
   ]
  },
  {
   "cell_type": "code",
   "execution_count": 20,
   "metadata": {},
   "outputs": [
    {
     "name": "stdout",
     "output_type": "stream",
     "text": [
      "La cantidad de veces que el Proyecto del Hotel fue rentable para invertir fue de: 5582 , siendo un porcentaje del: 55.82 % del total de simulaciones\n",
      "La cantidad de veces que el Proyecto del Centro comercial fue rentable para invertir fue de: 7218 , siendo un porcentaje del: 72.18 % del total de simulaciones\n"
     ]
    }
   ],
   "source": [
    "### Se hace un conteo de VPN para aquellas que tienen un valor Superior a 0 que determina los proyectos en los que invertir\n",
    "conteoH = 0 \n",
    "conteoCC = 0\n",
    "\n",
    "for inversion in resultadosH:\n",
    "    if inversion > 0:\n",
    "        conteoH = conteoH + 1\n",
    "\n",
    "for inversion in resultadosCC:\n",
    "    if inversion > 0:\n",
    "        conteoCC = conteoCC + 1 \n",
    "\n",
    "print(\"La cantidad de veces que el Proyecto del Hotel fue rentable para invertir fue de:\",conteoH,\", siendo un porcentaje del:\", conteoH*100/iteraciones,\"% del total de simulaciones\")\n",
    "print(\"La cantidad de veces que el Proyecto del Centro comercial fue rentable para invertir fue de:\",conteoCC,\", siendo un porcentaje del:\", conteoCC*100/iteraciones,\"% del total de simulaciones\")"
   ]
  },
  {
   "cell_type": "markdown",
   "metadata": {},
   "source": [
    " "
   ]
  },
  {
   "cell_type": "markdown",
   "metadata": {},
   "source": [
    "Como se pudo observar en los resultados:\n",
    "- **El proyecto del Hotel fue rentable entre un 50% y un 55% de las veces que se realizó las simulaciones en distintas cantidades**\n",
    "- **El proyecto del Centro Comercial fue rentable entre un 65% y 75% de las veces que se realizó las simulaciones en distintas cantidades**\n",
    "\n",
    "También al observar los resultados de los histogramas, es posible observar que el proyecto del Hotel siempre tuvo simulaciones en las que el VPN era mayor que las del proyecto del Centro Comercial, pero gracias a los resultados anteriores, es posible determinar que **es más rentable invertir en el Proyecto del Centro Comercial**, debido a que la probabilidad de que al VPN sea mayor a 0 es mayor que la probabilidad el proyecto del Hotel, lo cual lo hace un proyecto menos riesgoso y con más probabilidad de obtener ganancias."
   ]
  },
  {
   "cell_type": "markdown",
   "metadata": {},
   "source": [
    "### Ejercicio 4 - Repartidor de periódicos"
   ]
  },
  {
   "cell_type": "markdown",
   "metadata": {},
   "source": [
    "#### Simulación para 1 mes = 30 días"
   ]
  },
  {
   "cell_type": "code",
   "execution_count": 21,
   "metadata": {
    "scrolled": false
   },
   "outputs": [
    {
     "data": {
      "image/png": "[encoded data removed]",
      "text/plain": [
       "<Figure size 432x288 with 1 Axes>"
      ]
     },
     "metadata": {
      "needs_background": "light"
     },
     "output_type": "display_data"
    }
   ],
   "source": [
    "### Primero se establecen las probabilidades de ocurrencia\n",
    "p9 = 0.3 \n",
    "p10 = 0.4\n",
    "p11 = 0.3\n",
    "\n",
    "### Luego se hace un set de los acumuladores para las ganancias y resultados\n",
    "gTotal9 = 0\n",
    "gTotal10 = 0\n",
    "gTotal11 = 0\n",
    "\n",
    "acumulada9 = []\n",
    "acumulada10 = [] \n",
    "acumulada11 = []\n",
    "dias = []\n",
    "\n",
    "### Se hace la simulación de un mes = 30 dias\n",
    "### Se ingresan los valores segun la probabilidad de venta\n",
    "iteraciones = 30\n",
    "\n",
    "for iteracion in range(iteraciones):\n",
    "    probabilidadDelDia = random.random()\n",
    "    if probabilidadDelDia <= p9:\n",
    "        gTotal9 = gTotal9 + 9\n",
    "        gTotal10 = gTotal10 + 8\n",
    "        gTotal11 = gTotal11 + 7\n",
    "    elif (probabilidadDelDia > p9) and (probabilidadDelDia <= (p9 + p10)):\n",
    "        gTotal9 = gTotal9 + 9\n",
    "        gTotal10 = gTotal10 + 10\n",
    "        gTotal11 = gTotal11 + 9\n",
    "    elif probabilidadDelDia > (p9 + p10):\n",
    "        gTotal9 = gTotal9 + 9\n",
    "        gTotal10 = gTotal10 + 10\n",
    "        gTotal11 = gTotal11 + 11\n",
    "    acumulada9.append(gTotal9)\n",
    "    acumulada10.append(gTotal10)\n",
    "    acumulada11.append(gTotal11)\n",
    "    \n",
    "    dias.append(iteracion)\n",
    "\n",
    "plt.scatter(dias, acumulada9, s=0.3, color = 'red')\n",
    "plt.scatter(dias, acumulada10, s=0.3, color = 'skyblue')\n",
    "plt.scatter(dias, acumulada11, s=0.3, color = 'purple')\n",
    "\n",
    "plt.plot(dias, acumulada9, 'red')\n",
    "plt.plot(dias, acumulada10, 'skyblue')\n",
    "plt.plot(dias, acumulada11, 'purple')\n",
    "plt.show()"
   ]
  },
  {
   "cell_type": "markdown",
   "metadata": {},
   "source": [
    "#### Simulación para 1 año = 365 días"
   ]
  },
  {
   "cell_type": "code",
   "execution_count": 22,
   "metadata": {
    "scrolled": true
   },
   "outputs": [
    {
     "data": {
      "image/png": "[encoded data removed]",
      "text/plain": [
       "<Figure size 432x288 with 1 Axes>"
      ]
     },
     "metadata": {
      "needs_background": "light"
     },
     "output_type": "display_data"
    }
   ],
   "source": [
    "### Luego se hace un set de los acumuladores para las ganancias y resultados\n",
    "gTotal9 = 0\n",
    "gTotal10 = 0\n",
    "gTotal11 = 0\n",
    "\n",
    "acumulada9 = []\n",
    "acumulada10 = [] \n",
    "acumulada11 = []\n",
    "dias = []\n",
    "\n",
    "### Se hace la simulación de un mes = 30 dias\n",
    "### Se ingresan los valores segun la probabilidad de venta\n",
    "iteraciones = 365\n",
    "\n",
    "for iteracion in range(iteraciones):\n",
    "    probabilidadDelDia = random.random()\n",
    "    if probabilidadDelDia <= p9:\n",
    "        gTotal9 = gTotal9 + 9\n",
    "        gTotal10 = gTotal10 + 8\n",
    "        gTotal11 = gTotal11 + 7\n",
    "    elif (probabilidadDelDia > p9) and (probabilidadDelDia <= (p9 + p10)):\n",
    "        gTotal9 = gTotal9 + 9\n",
    "        gTotal10 = gTotal10 + 10\n",
    "        gTotal11 = gTotal11 + 9\n",
    "    elif probabilidadDelDia > (p9 + p10):\n",
    "        gTotal9 = gTotal9 + 9\n",
    "        gTotal10 = gTotal10 + 10\n",
    "        gTotal11 = gTotal11 + 11\n",
    "    acumulada9.append(gTotal9)\n",
    "    acumulada10.append(gTotal10)\n",
    "    acumulada11.append(gTotal11)\n",
    "    \n",
    "    dias.append(iteracion)\n",
    "\n",
    "plt.scatter(dias, acumulada9, s=0.3, color = 'red')\n",
    "plt.scatter(dias, acumulada10, s=0.3, color = 'skyblue')\n",
    "plt.scatter(dias, acumulada11, s=0.3, color = 'purple')\n",
    "\n",
    "plt.plot(dias, acumulada9, 'red')\n",
    "plt.plot(dias, acumulada10, 'skyblue')\n",
    "plt.plot(dias, acumulada11, 'purple')\n",
    "plt.show()"
   ]
  },
  {
   "cell_type": "markdown",
   "metadata": {},
   "source": [
    "#### Simulación para 10 años = 3650 días"
   ]
  },
  {
   "cell_type": "code",
   "execution_count": 23,
   "metadata": {
    "scrolled": false
   },
   "outputs": [
    {
     "data": {
      "image/png": "[encoded data removed]",
      "text/plain": [
       "<Figure size 432x288 with 1 Axes>"
      ]
     },
     "metadata": {
      "needs_background": "light"
     },
     "output_type": "display_data"
    }
   ],
   "source": [
    "### Luego se hace un set de los acumuladores para las ganancias y resultados\n",
    "gTotal9 = 0\n",
    "gTotal10 = 0\n",
    "gTotal11 = 0\n",
    "\n",
    "acumulada9 = []\n",
    "acumulada10 = [] \n",
    "acumulada11 = []\n",
    "dias = []\n",
    "\n",
    "### Se hace la simulación de un mes = 30 dias\n",
    "### Se ingresan los valores segun la probabilidad de venta\n",
    "iteraciones = 3650\n",
    "\n",
    "for iteracion in range(iteraciones):\n",
    "    probabilidadDelDia = random.random()\n",
    "    if probabilidadDelDia <= p9:\n",
    "        gTotal9 = gTotal9 + 9\n",
    "        gTotal10 = gTotal10 + 8\n",
    "        gTotal11 = gTotal11 + 7\n",
    "    elif (probabilidadDelDia > p9) and (probabilidadDelDia <= (p9 + p10)):\n",
    "        gTotal9 = gTotal9 + 9\n",
    "        gTotal10 = gTotal10 + 10\n",
    "        gTotal11 = gTotal11 + 9\n",
    "    elif probabilidadDelDia > (p9 + p10):\n",
    "        gTotal9 = gTotal9 + 9\n",
    "        gTotal10 = gTotal10 + 10\n",
    "        gTotal11 = gTotal11 + 11\n",
    "    acumulada9.append(gTotal9)\n",
    "    acumulada10.append(gTotal10)\n",
    "    acumulada11.append(gTotal11)\n",
    "    \n",
    "    dias.append(iteracion)\n",
    "\n",
    "plt.scatter(dias, acumulada9, s=0.3, color = 'red')\n",
    "plt.scatter(dias, acumulada10, s=0.3, color = 'skyblue')\n",
    "plt.scatter(dias, acumulada11, s=0.3, color = 'purple')\n",
    "\n",
    "plt.plot(dias, acumulada9, 'red')\n",
    "plt.plot(dias, acumulada10, 'skyblue')\n",
    "plt.plot(dias, acumulada11, 'purple')\n",
    "plt.show()"
   ]
  },
  {
   "cell_type": "markdown",
   "metadata": {},
   "source": [
    "En conclusión es posible notar que en cada una de las iteraciones de cada simulación, la que mejor ganancias conseguió, fue cuando se compró una cantidad de 10 periódicos diariamente. Ciertamente es posible observar que las ganacias de comprar 10 periódicos siempre están por encima de comprar 11 y 9, donde 9 es la que menos ganancias brinda, pero en ocasiones brinda lo mismo que con 11. \n",
    "\n",
    "Por lo tanto, la mejor opción para maximizar mis ganancias y que me conviene más es la de: **Comprar 10 periódicos diariamente**"
   ]
  }
 ],
 "metadata": {
  "kernelspec": {
   "display_name": "Python 3",
   "language": "python",
   "name": "python3"
  },
  "language_info": {
   "codemirror_mode": {
    "name": "ipython",
    "version": 3
   },
   "file_extension": ".py",
   "mimetype": "text/x-python",
   "name": "python",
   "nbconvert_exporter": "python",
   "pygments_lexer": "ipython3",
   "version": "3.8.1"
  }
 },
 "nbformat": 4,
 "nbformat_minor": 4
}
